{
 "cells": [
  {
   "cell_type": "code",
   "execution_count": 1,
   "metadata": {},
   "outputs": [],
   "source": [
    "from dotenv import load_dotenv\n",
    "\n",
    "_= load_dotenv(\"./config.env\")\n",
    "\n",
    "import json\n",
    "from typing import Optional,Union\n",
    "import pandas as pd\n",
    "from pydantic import BaseModel, Field, model_validator\n",
    "from typing import Optional, List, Literal\n",
    "import sys\n",
    "from datetime import date\n",
    "\n",
    "\n",
    "from utils import database\n",
    "from utils import bing_crawler\n",
    "\n",
    "bing_news_db = database.Bing_News_DB()\n",
    "news_data = bing_crawler.BingCrawl(source_name = \"Bing News\", minDate=\"2024-08-20\",location= \"IN\",\n",
    "                         store_db = False)"
   ]
  },
  {
   "cell_type": "code",
   "execution_count": 2,
   "metadata": {},
   "outputs": [
    {
     "data": {
      "text/plain": [
       "[{'source_name': 'Bing News',\n",
       "  'client_name': 'Apollo',\n",
       "  'news_title': 'Taiwan provides update on its investigation into Lebanon’s exploding pagers',\n",
       "  'news_date': '2024-09-26T06:28:00.0000000Z',\n",
       "  'news_url': 'https://www.yahoo.com/news/taiwan-provides-investigation-lebanon-exploding-062711846.html',\n",
       "  'description': 'Although the Taiwanese government also claimed that the pagers were not made on the island, prosecutors in Taipei opened an investigation into Gold Apollo.'},\n",
       " {'source_name': 'Bing News',\n",
       "  'client_name': 'Apollo',\n",
       "  'news_title': 'Denver area events for Sept. 26: Omar Apollo, Chayanne and more',\n",
       "  'news_date': '2024-09-26T05:59:00.0000000Z',\n",
       "  'news_url': 'https://gazette.com/denver-gazette/chayanne-denver-area-events-sept-26/article_87e918e8-754a-11ef-b003-dfc2e825be00.html',\n",
       "  'description': \"Magic of the Jack O' Lanterns — A glowing trail of more than 7000 hand-carved pumpkins, through Nov. 2, The Hudson Gardens, 6115 S. Santa Fe Drive, Littleton, $18.99 and up. Go online for schedule. Tickets: magicofthejackolanterns.com.\"},\n",
       " {'source_name': 'Bing News',\n",
       "  'client_name': 'Apollo',\n",
       "  'news_title': 'Southern Cross claims AI success at Apollo',\n",
       "  'news_date': '2024-09-26T05:11:00.0000000Z',\n",
       "  'news_url': 'https://www.mining-journal.com/explorers/news-analysis/4363949/southern-cross-claims-ai-success-apollo',\n",
       "  'description': 'Southern Cross Gold has reported more success at its Sunday Creek project in Victoria, with three holes intersecting mineralisation to the east and down-dip of'},\n",
       " {'source_name': 'Bing News',\n",
       "  'client_name': 'Apollo',\n",
       "  'news_title': 'Board, Gray, Smith earn weekly OT sports honors',\n",
       "  'news_date': '2024-09-26T05:05:00.0000000Z',\n",
       "  'news_url': 'https://www.owensborotimes.com/sports/2024/09/board-gray-smith-earn-weekly-ot-sports-honors/',\n",
       "  'description': 'This week’s Owensboro Times Players of the Week are Niles Board (Apoll football), Noah Gray (Apollo boys’ cross country), and Caroline Smith (Owensboro girls’ soccer) after each received the most votes in their respective weekly poll.'},\n",
       " {'source_name': 'Bing News',\n",
       "  'client_name': 'Apollo',\n",
       "  'news_title': 'Apollo 11 landing anniversary: How Nasa made a flag fly on the Moon with no air',\n",
       "  'news_date': '2024-09-26T03:46:00.0000000Z',\n",
       "  'news_url': 'https://www.msn.com/en-in/money/other/apollo-11-landing-anniversary-how-nasa-made-a-flag-fly-on-the-moon-with-no-air/ar-BB1qj3ln',\n",
       "  'description': \"The two spent the next few hours collecting samples, basking in the sunlight of the powdery landscape, and exploring the Sea of Tranquillity, Apollo 11's landing site. They also proudly planted an American flag on the Moon's surface. The flag, which was ...\"},\n",
       " {'source_name': 'Bing News',\n",
       "  'client_name': 'Apollo',\n",
       "  'news_title': 'DC Teases New Version of Its Next Movie Team',\n",
       "  'news_date': '2024-09-26T03:26:00.0000000Z',\n",
       "  'news_url': 'https://comicbook.com/comics/news/dc-new-version-authority-movie-team-outsiders-11/',\n",
       "  'description': \"DC's cultural footprint is expected to evolve in the next few years, thanks to James Gunn and Peter Safran's new slate of DC Studios projects. Across a number of forthcoming movies and television shows,\"},\n",
       " {'source_name': 'Bing News',\n",
       "  'client_name': 'Apollo',\n",
       "  'news_title': 'Review: BIANCA DEL RIO: DEAD INSIDE, Eventim Apollo',\n",
       "  'news_date': '2024-09-26T02:55:00.0000000Z',\n",
       "  'news_url': 'https://www.broadwayworld.com/westend/article/Review-BIANCA-DEL-RIO-DEAD-INSIDE-Eventim-Apollo-20240925',\n",
       "  'description': 'Eighty dates into Bianca Del Rio’s Dead Inside tour, the sweary New Orleans-born comedian is still very much alive and kicking. The artist formally known as Roy R. Haylock is an insult comic whose outsized personality and foghorn voice easily fills the capacious Eventim – but does her latest show work on this side of the pond?'},\n",
       " {'source_name': 'Bing News',\n",
       "  'client_name': 'Apollo',\n",
       "  'news_title': 'Apollo receives $1.2 million grant for automation, robotics equipment',\n",
       "  'news_date': '2024-09-26T02:31:00.0000000Z',\n",
       "  'news_url': 'https://www.aol.com/news/apollo-receives-1-2-million-233100292.html',\n",
       "  'description': 'Ohio Lt. Gov. Jon Husted visited Apollo Career Center on Wednesday to announce Apollo will receive a $1,175,925 Career Technical Education Equipment Grant to fund the automation and robotics department,'},\n",
       " {'source_name': 'Bing News',\n",
       "  'client_name': 'Apollo',\n",
       "  'news_title': 'Taipei Prosecutors Delve Deeper into Pagers Linked to Hezbollah Attack',\n",
       "  'news_date': '2024-09-26T01:35:00.0000000Z',\n",
       "  'news_url': 'https://www.devdiscourse.com/article/law-order/3100157-taipei-prosecutors-delve-deeper-into-pagers-linked-to-hezbollah-attack',\n",
       "  'description': \"Taiwan prosecutors have questioned four individuals in their investigation into a Taiwanese company's alleged link to deadly pager explosions in Lebanon. The explosions, reportedly orchestrated by Israel,\"},\n",
       " {'source_name': 'Bing News',\n",
       "  'client_name': 'Apollo',\n",
       "  'news_title': 'Jesse Watters: Kamala Harris just sank her own campaign',\n",
       "  'news_date': '2024-09-26T01:20:00.0000000Z',\n",
       "  'news_url': 'https://www.msn.com/en-us/video/sports/jesse-watters-kamala-harris-just-sank-her-own-campaign/vi-AA1rdxAM',\n",
       "  'description': 'Fox News host Jesse Watters discusses how Vice President Kamala Harris dodged questions on the economy during her interview with Stephanie Ruhle on ‘Jesse Watters Primetime.’'},\n",
       " {'source_name': 'Bing News',\n",
       "  'client_name': 'Apollo',\n",
       "  'news_title': 'Taiwan prosecutors say four questioned so far over exploding pagers',\n",
       "  'news_date': '2024-09-26T00:45:00.0000000Z',\n",
       "  'news_url': 'https://www.reuters.com/world/taiwan-prosecutors-say-four-questioned-so-far-over-exploding-pagers-2024-09-26/',\n",
       "  'description': 'Taiwan prosecutors said on Thursday that they have so far questioned four people as witnesses in their investigation into a Taiwanese company linked to pagers that detonated last week in Lebanon in a deadly blow to Hezbollah.'},\n",
       " {'source_name': 'Bing News',\n",
       "  'client_name': 'Apollo',\n",
       "  'news_title': 'Senate voting on resolution to hold Steward CEO Ralph de la Torre in contempt',\n",
       "  'news_date': '2024-09-26T00:09:00.0000000Z',\n",
       "  'news_url': 'https://www.wcvb.com/article/steward-ceo-ralph-de-la-torre-contempt-of-congress-sanders/62375108',\n",
       "  'description': 'Last week, de la Torre was absent from a congressional hearing about the bankruptcy of his company, which operated several Massachusetts hospitals.'},\n",
       " {'source_name': 'Bing News',\n",
       "  'client_name': 'Apollo',\n",
       "  'news_title': 'Destiny 2 raids set to have multiple world’s first races thanks to future revamps',\n",
       "  'news_date': '2024-09-26T00:01:00.0000000Z',\n",
       "  'news_url': 'https://www.dexerto.com/destiny/destiny-2-raids-set-to-have-multiple-worlds-first-races-thanks-to-future-revamps-2911464/',\n",
       "  'description': 'In the September 25 developer insight blog, the devs mentioned that the first raid to release during Codename: Apollo will receive a “Challenge Update”. This means adding in new rewards, new mechanics, new Feats, and “potentially even new encounters.”'},\n",
       " {'source_name': 'Bing News',\n",
       "  'client_name': 'Apollo',\n",
       "  'news_title': 'Breaking down Intel’s wild week',\n",
       "  'news_date': '2024-09-25T23:46:00.0000000Z',\n",
       "  'news_url': 'https://www.aol.com/finance/breaking-down-intel-wild-week-204638476.html',\n",
       "  'description': 'Intel is dealing with sliding sales and the unenviable position of having to take on market leader Nvidia in the AI space. For 2023, Intel reported full-year revenue of $54.2 billion, a 14% year-over-year decline from the $63.1 billion the company saw in 2022.'},\n",
       " {'source_name': 'Bing News',\n",
       "  'client_name': 'Apollo',\n",
       "  'news_title': 'NASA’s Farside Seismic Suite: Measuring Moonquakes With Help From Mars InSight Lander',\n",
       "  'news_date': '2024-09-25T22:01:00.0000000Z',\n",
       "  'news_url': 'https://scitechdaily.com/nasas-farside-seismic-suite-measuring-moonquakes-with-help-from-mars-insight-lander/',\n",
       "  'description': 'NASA’s Farside Seismic Suite, equipped with advanced seismometers, aims to study the Moon’s far side in 2026, offering new insights into its seismic activity and geological structure. This mission will provide the first seismic data from the area in decades,'},\n",
       " {'source_name': 'Bing News',\n",
       "  'client_name': 'Apollo',\n",
       "  'news_title': 'Almost Monday Make Waves with Release of Debut Album',\n",
       "  'news_date': '2024-09-25T21:18:00.0000000Z',\n",
       "  'news_url': 'https://www.broadwayworld.com/bwwmusic/article/Almost-Monday-Make-Waves-with-Release-of-Debut-Album-20240925',\n",
       "  'description': 'San Diego’s\\xa0almost monday\\xa0release their debut album,\\xa0DIVE,\\xa0out everywhere now. Consisting of\\xa0Dawson Daugherty\\xa0(vocals),\\xa0Cole Clisby\\xa0(guitar), and\\xa0Luke Fabry\\xa0(bass), almost monday continues to expand upon their distinctive sundrenched sound with\\xa0the new album.'},\n",
       " {'source_name': 'Bing News',\n",
       "  'client_name': 'Apollo',\n",
       "  'news_title': 'S&P 500 Gains and Losses Today: Carmakers Lose Ground as Analyst Cites Challenges',\n",
       "  'news_date': '2024-09-25T21:07:00.0000000Z',\n",
       "  'news_url': 'https://www.investopedia.com/s-and-p-500-gains-and-losses-today-carmakers-lose-ground-as-analyst-cites-challenges-8718075',\n",
       "  'description': \"The S&P 500 slipped 0.2% on Wednesday, Sept. 25, retreating from the prior day's record close as concerns about economic growth resurfaced.\"},\n",
       " {'source_name': 'Bing News',\n",
       "  'client_name': 'Apollo',\n",
       "  'news_title': 'Fourth student arrest made for a school shooting threat',\n",
       "  'news_date': '2024-09-25T21:06:00.0000000Z',\n",
       "  'news_url': 'https://www.wevv.com/news/fourth-student-arrest-made-for-a-school-shooting-threat/article_1c870608-7b82-11ef-ac15-4764e77b7497.html',\n",
       "  'description': 'Owensboro Police has now arrested three minors and one adult student for school shooting threats through social media.'},\n",
       " {'source_name': 'Bing News',\n",
       "  'client_name': 'Apollo',\n",
       "  'news_title': \"Lt. Gov. Husted announces grant while touring Apollo Career Center's robotics lab\",\n",
       "  'news_date': '2024-09-25T20:48:00.0000000Z',\n",
       "  'news_url': 'https://www.hometownstations.com/news/lt-gov-husted-announces-grant-while-touring-apollo-career-centers-robotics-lab/article_4b47889a-7b74-11ef-8eb6-bfe39c33de39.html',\n",
       "  'description': 'The number of students attending career technical programs across the state has increased, and Ohio legislators are making sure they have the skills needed to succeed. Ohio Lieutenant Governor Jon'},\n",
       " {'source_name': 'Bing News',\n",
       "  'client_name': 'Apollo',\n",
       "  'news_title': 'State grant dollars heading to Lima City Schools and Apollo Career Center',\n",
       "  'news_date': '2024-09-25T20:40:00.0000000Z',\n",
       "  'news_url': 'https://www.hometownstations.com/news/state-grant-dollars-heading-to-lima-city-schools-and-apollo-career-center/article_04dc5904-7b7d-11ef-9a68-2b8758eec0e3.html',\n",
       "  'description': \"Grant dollars will be going to Apollo's robotics department to get a new piece of equipment that will advance the students' skill levels.\"},\n",
       " {'source_name': 'Bing News',\n",
       "  'client_name': 'Apollo',\n",
       "  'news_title': 'Apollo-Backed Insurer Hit With Lawsuit Over Pollution Litigation',\n",
       "  'news_date': '2024-09-25T20:28:00.0000000Z',\n",
       "  'news_url': 'https://news.bloomberglaw.com/insurance/apollo-backed-insurer-hit-with-lawsuit-over-pollution-litigation',\n",
       "  'description': 'A Texas energy investment management company sued an insurer backed by Apollo Global Management Inc. over legal costs for environmental pollution cases filed in Louisiana.'},\n",
       " {'source_name': 'Bing News',\n",
       "  'client_name': 'Apollo',\n",
       "  'news_title': 'Noble Audio FoKus Triumph Review',\n",
       "  'news_date': '2024-09-25T19:30:00.0000000Z',\n",
       "  'news_url': 'https://majorhifi.com/noble-audio-fokus-triumph-review/',\n",
       "  'description': 'Discover the new FoKus Triumph from Noble Audio, TWS earbuds featuring xMEMS technology at a competitive price.'},\n",
       " {'source_name': 'Bing News',\n",
       "  'client_name': 'Apollo',\n",
       "  'news_title': 'Jalen Hurts and Michael Vick on ‘Evolution of the Black Quarterback,’ shedding stigmas, drawing inspiration',\n",
       "  'news_date': '2024-09-25T19:16:00.0000000Z',\n",
       "  'news_url': 'https://www.inquirer.com/eagles/jalen-hurts-michael-vick-evolution-black-quarterback-amazon-prime-20240925.html',\n",
       "  'description': 'The Eagles have had a long history of Black quarterbacks impacting the game, and Hurts and Vick were among those discussing the premiere of the Prime Video docuseries.'},\n",
       " {'source_name': 'Bing News',\n",
       "  'client_name': 'Apollo',\n",
       "  'news_title': 'Looks From The ‘Evolution Of The Black Quarterback’ Premiere Red Carpet',\n",
       "  'news_date': '2024-09-25T19:10:00.0000000Z',\n",
       "  'news_url': 'https://www.yahoo.com/entertainment/looks-evolution-black-quarterback-premiere-191040785.html',\n",
       "  'description': 'The Evolution of the Black Quarterback premiere went down on Tuesday (Sept. 24) at Harlem World, USA’s iconic Apollo Theater. Stars, old and new, descended upon the great entertainment shrine to celebrate Prime Video’s docuseries focused on the rise of Black QBs in the NFL.'},\n",
       " {'source_name': 'Bing News',\n",
       "  'client_name': 'Apollo',\n",
       "  'news_title': 'Apollo 5K aims to raise awareness of human trafficking',\n",
       "  'news_date': '2024-09-25T18:44:00.0000000Z',\n",
       "  'news_url': 'https://triblive.com/local/valley-news-dispatch/apollo-5k-aims-to-raise-awareness-of-human-trafficking/',\n",
       "  'description': 'It might come as a surprise to many just how prevalent human trafficking is in Westmoreland County. The county is ninth in the state for human trafficking, said Kristen Malone-Bodair, education outreach program manager for the Blackburn Center.'},\n",
       " {'source_name': 'Bing News',\n",
       "  'client_name': 'Apollo',\n",
       "  'news_title': 'School Grades Released, School Officials React',\n",
       "  'news_date': '2024-09-25T18:42:00.0000000Z',\n",
       "  'news_url': 'https://www.ospreyobserver.com/2024/09/school-grades-released-school-officials-react/',\n",
       "  'description': 'Hillsborough County school officials said school grades released in July show “students met the challenge,” even with the bar raised for academic achievemen'},\n",
       " {'source_name': 'Bing News',\n",
       "  'client_name': 'Apollo',\n",
       "  'news_title': 'Can anybody save Intel?',\n",
       "  'news_date': '2024-09-25T18:29:00.0000000Z',\n",
       "  'news_url': 'https://www.economist.com/business/2024/09/25/can-anybody-save-intel',\n",
       "  'description': 'America’s failing chip champion needs a financial-engineering miracle'},\n",
       " {'source_name': 'Bing News',\n",
       "  'client_name': 'Apollo',\n",
       "  'news_title': 'Can dealmaking save Intel?',\n",
       "  'news_date': '2024-09-25T18:29:00.0000000Z',\n",
       "  'news_url': 'https://www.economist.com/business/2024/09/25/can-dealmaking-save-intel',\n",
       "  'description': 'As when any corporate icon falls on hard times, dealmaking rumours are swirling. Qualcomm, an American chip-designer, is reported to be interested in buying Intel. Apollo, a financial firm, is also mulling an investment.'},\n",
       " {'source_name': 'Bing News',\n",
       "  'client_name': 'Apollo',\n",
       "  'news_title': 'Fed rate cuts pave the way for a rebound in commercial real estate, analyst says',\n",
       "  'news_date': '2024-09-25T16:22:00.0000000Z',\n",
       "  'news_url': 'https://seekingalpha.com/news/4153261-fed-rate-cuts-pave-the-way-for-a-rebound-in-commercial-real-estate-analyst-says',\n",
       "  'description': \"Wells Fargo predicts a potential recovery in the commercial real estate market with the Federal Reserve's easing cycle and lower interest rates.\"}]"
      ]
     },
     "execution_count": 2,
     "metadata": {},
     "output_type": "execute_result"
    }
   ],
   "source": [
    "bing_crawler.bing_news_crawler(client_name=\"Apollo\", search_term=\"Apollo\")"
   ]
  },
  {
   "cell_type": "code",
   "execution_count": 3,
   "metadata": {},
   "outputs": [],
   "source": [
    "url = \"https://www.yahoo.com/news/taiwan-provides-investigation-lebanon-exploding-062711846.html\""
   ]
  },
  {
   "cell_type": "code",
   "execution_count": 5,
   "metadata": {},
   "outputs": [],
   "source": [
    "news = bing_crawler.news_scrapper(url=url)"
   ]
  },
  {
   "cell_type": "code",
   "execution_count": 10,
   "metadata": {},
   "outputs": [],
   "source": [
    "from langchain_openai import AzureChatOpenAI\n",
    "import os\n",
    "\n",
    "#### AZURE OpenAI Configs ####\n",
    "AZURE_OPENAI_API_KEY  = \"2cdbe661df984f3fbea618cf291dd747\"\n",
    "AZURE_OPENAI_ENDPOINT = \"https://demo-keyaccount-openai.openai.azure.com/openai/deployments/gpt-4o/chat/completions?api-version=2023-03-15-preview\"\n",
    "AZURE_OPENAI_API_VERSION =  \"2023-03-15-preview\" #\"2024-08-06\"\n",
    "AZURE_DEPLOYMENT = \"gpt-4o\"\n",
    "\n",
    "model = AzureChatOpenAI(temperature=0.2,\n",
    "                                        openai_api_key= AZURE_OPENAI_API_KEY, #os.environ['AZURE_OPENAI_API_KEY'],  #secret_value.get_secret(\"AZURE-OPENAI-API-KEY\"),\n",
    "                                        openai_api_version= AZURE_OPENAI_API_VERSION, #os.getenv(\"AZURE_OPENAI_API_VERSION\"),\n",
    "                                        azure_deployment=AZURE_DEPLOYMENT,#os.getenv(\"AZURE_OPENAI_DEPLOYMENT\"),\n",
    "                                        azure_endpoint=AZURE_OPENAI_ENDPOINT,# os.environ['AZURE_OPENAI_ENDPOINT'],  #secret_value.get_secret(\"AZURE-OPENAI-ENDPOINT\"),\n",
    "                                        verbose=True)"
   ]
  },
  {
   "cell_type": "code",
   "execution_count": 11,
   "metadata": {},
   "outputs": [
    {
     "data": {
      "text/plain": [
       "AIMessage(content='Why did the doctor carry a red pen?\\n\\nIn case they needed to draw blood!', response_metadata={'token_usage': {'completion_tokens': 17, 'prompt_tokens': 12, 'total_tokens': 29}, 'model_name': 'gpt-4o-2024-08-06', 'system_fingerprint': 'fp_67802d9a6d', 'finish_reason': 'stop', 'logprobs': None, 'content_filter_results': {}}, id='run-77b86d3c-d171-4777-9012-8bcac42ad21f-0', usage_metadata={'input_tokens': 12, 'output_tokens': 17, 'total_tokens': 29})"
      ]
     },
     "execution_count": 11,
     "metadata": {},
     "output_type": "execute_result"
    }
   ],
   "source": [
    "model.invoke(\"write a joke on healthcare\")"
   ]
  },
  {
   "cell_type": "code",
   "execution_count": 6,
   "metadata": {},
   "outputs": [
    {
     "data": {
      "text/plain": [
       "{}"
      ]
     },
     "execution_count": 6,
     "metadata": {},
     "output_type": "execute_result"
    }
   ],
   "source": [
    "news_data.llm_model(html_content=news, client_name=\"Apollo\")"
   ]
  }
 ],
 "metadata": {
  "kernelspec": {
   "display_name": ".venv",
   "language": "python",
   "name": "python3"
  },
  "language_info": {
   "codemirror_mode": {
    "name": "ipython",
    "version": 3
   },
   "file_extension": ".py",
   "mimetype": "text/x-python",
   "name": "python",
   "nbconvert_exporter": "python",
   "pygments_lexer": "ipython3",
   "version": "3.11.0"
  },
  "orig_nbformat": 4
 },
 "nbformat": 4,
 "nbformat_minor": 2
}
